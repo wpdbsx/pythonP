{
 "cells": [
  {
   "cell_type": "code",
   "execution_count": 17,
   "metadata": {},
   "outputs": [
    {
     "output_type": "stream",
     "name": "stdout",
     "text": "Hello World\nPython is fun\nLife is too short, You need python\nLife is too short, You need python\n"
    }
   ],
   "source": [
    "print(\"Hello World\")\n",
    "print('Python is fun')\n",
    "print( \"\"\"Life is too short, You need python\"\"\")\n",
    "print( '''Life is too short, You need python''')"
   ]
  },
  {
   "cell_type": "code",
   "execution_count": 27,
   "metadata": {},
   "outputs": [
    {
     "output_type": "stream",
     "name": "stdout",
     "text": "원의 지름:  4.0\n원의 면적:  50.24\n원의 둘레:  25.12\n"
    }
   ],
   "source": [
    "\n",
    "print(\"원의 지름: \",4.0)\n",
    "print(\"원의 면적: \",3.14*4.0*4.0)\n",
    "print(\"원의 둘레: \",2.0*3.14*4.0)"
   ]
  },
  {
   "cell_type": "code",
   "execution_count": 28,
   "metadata": {},
   "outputs": [
    {
     "output_type": "stream",
     "name": "stdout",
     "text": "원의 지름:  4.5\n원의 면적:  63.585\n원의 둘레:  28.26\n"
    }
   ],
   "source": [
    "print(\"원의 지름: \",4.5)\n",
    "print(\"원의 면적: \",3.14*4.5*4.5)\n",
    "print(\"원의 둘레: \",2.0*3.14*4.5)"
   ]
  },
  {
   "cell_type": "code",
   "execution_count": 32,
   "metadata": {},
   "outputs": [
    {
     "output_type": "stream",
     "name": "stdout",
     "text": "원의 지름:  3\n원의 면적:  28.259999999999998\n원의 둘레:  18.84\n"
    }
   ],
   "source": [
    "a=int(input('반지름을 입력하세요'))\n",
    "print(\"원의 지름: \",a)\n",
    "print(\"원의 면적: \",3.14*a*a)\n",
    "print(\"원의 둘레: \",2.0*3.14*a)"
   ]
  },
  {
   "cell_type": "code",
   "execution_count": 35,
   "metadata": {},
   "outputs": [],
   "source": [
    "num1= 5\n",
    "num2 =5.5\n",
    "num3 = 'abcd' \n",
    "num4 = '123'\n",
    "num5 = '5.5'"
   ]
  },
  {
   "cell_type": "code",
   "execution_count": 41,
   "metadata": {},
   "outputs": [
    {
     "output_type": "stream",
     "name": "stdout",
     "text": "<class 'int'>\n<class 'float'>\n<class 'str'>\n<class 'str'>\n<class 'str'>\n0.30000000000000004\n"
    }
   ],
   "source": [
    "print(type(num1))\n",
    "print(type(num2))\n",
    "print(type(num3))\n",
    "print(type(num4))\n",
    "print(type(num5))\n",
    "\n",
    "print(0.1+0.1+0.1)"
   ]
  },
  {
   "cell_type": "code",
   "execution_count": 46,
   "metadata": {},
   "outputs": [],
   "source": [
    "a = 1 ==1 "
   ]
  },
  {
   "cell_type": "code",
   "execution_count": 45,
   "metadata": {},
   "outputs": [
    {
     "output_type": "execute_result",
     "data": {
      "text/plain": "True"
     },
     "metadata": {},
     "execution_count": 45
    }
   ],
   "source": [
    "a"
   ]
  },
  {
   "cell_type": "code",
   "execution_count": null,
   "metadata": {},
   "outputs": [],
   "source": []
  }
 ],
 "metadata": {
  "language_info": {
   "codemirror_mode": {
    "name": "ipython",
    "version": 3
   },
   "file_extension": ".py",
   "mimetype": "text/x-python",
   "name": "python",
   "nbconvert_exporter": "python",
   "pygments_lexer": "ipython3",
   "version": "3.7.7-final"
  },
  "orig_nbformat": 2,
  "kernelspec": {
   "name": "python37764bit7a873b8a9cda43a883f42f99ba146ed4",
   "display_name": "Python 3.7.7 64-bit"
  }
 },
 "nbformat": 4,
 "nbformat_minor": 2
}