{
 "cells": [
  {
   "cell_type": "code",
   "execution_count": 63,
   "metadata": {},
   "outputs": [
    {
     "output_type": "stream",
     "name": "stdout",
     "text": "일반인 환영합니다\n"
    }
   ],
   "source": [
    "##나이를 입력 받아서 18세보다 어리면 청소년\n",
    "\n",
    "age = int(input(\"나이를 입력하세요 \"))\n",
    "\n",
    "if age <18 :\n",
    "     print(\"청소년 환영합니다\",\"청소년 할인\")\n",
    "else :\n",
    "     print(\"일반인 환영합니다\")"
   ]
  },
  {
   "cell_type": "code",
   "execution_count": 78,
   "metadata": {},
   "outputs": [
    {
     "output_type": "stream",
     "name": "stdout",
     "text": "23는 3과 5의 배수가 아닙니다\n"
    }
   ],
   "source": [
    "# 3 과 5 의 배수를 판단하는 프로그램을 작성하시오\n",
    "a =  int(input(\"숫자를 입력하시오\"))\n",
    "if a % 3 == 0 and a % 5 == 0 :\n",
    "    print(\"3과 5의 배수입니다.\")\n",
    "elif a % 3 == 0 :\n",
    "    print(\"{0}은 3의배수 입니다\".format(a))\n",
    "elif a % 5 == 0 :\n",
    "    print(\"{0}는 5의배수 입니다\".format(a))\n",
    "else :\n",
    "    print(\"{0}는 3과 5의 배수가 아닙니다\".format(a))"
   ]
  },
  {
   "cell_type": "code",
   "execution_count": 97,
   "metadata": {},
   "outputs": [
    {
     "output_type": "stream",
     "name": "stdout",
     "text": "55\n"
    }
   ],
   "source": [
    "a=0\n",
    "for i in range(1,11,1):\n",
    "    a+=i\n",
    "print(a)\n"
   ]
  },
  {
   "cell_type": "code",
   "execution_count": 98,
   "metadata": {},
   "outputs": [
    {
     "output_type": "stream",
     "name": "stdout",
     "text": "15\n"
    }
   ],
   "source": [
    "a= int(input(\"합계를 구할 수를 입력하세요 : \"))\n",
    "result =0 \n",
    "for i in (range(1,a+1)):\n",
    "    result +=i\n",
    "print(result)"
   ]
  },
  {
   "cell_type": "code",
   "execution_count": 102,
   "metadata": {},
   "outputs": [
    {
     "output_type": "stream",
     "name": "stdout",
     "text": "['1', '2', '3', '4', '1', '2', '3', '4', '1', '2']\n"
    }
   ],
   "source": [
    "list=[]\n",
    "for i in range(10):\n",
    "    a=input(\"입력하세요.\")\n",
    "    list.append(a)\n",
    "print(list)"
   ]
  },
  {
   "cell_type": "code",
   "execution_count": 1,
   "metadata": {},
   "outputs": [
    {
     "output_type": "stream",
     "name": "stdout",
     "text": "{1: '123', 2: '123', 3: '123', 4: '123', 5: '123'}\n"
    }
   ],
   "source": [
    "#고객 관리 시스템 개발\n",
    "# 1. 고객의 이름을 입력 받는 모듈을 개발 하시오\n",
    "li= {}\n",
    "for i in range(5):\n",
    "    이름=input(\"고객의 이름을 입력하세요.\")\n",
    "    li[i+1]=이름\n",
    "print(li)"
   ]
  },
  {
   "cell_type": "code",
   "execution_count": 20,
   "metadata": {},
   "outputs": [
    {
     "output_type": "stream",
     "name": "stdout",
     "text": "==================================================\n===== 고객 관리 시스템 =================\n===== 메뉴를 선택 하세요. ==============\n===== 이름 입력 : 1, 나이 입력:2, 성별 입력 ; 3\n===== 이름 입력 : 1, 나이 입력:2, 성별 입력 ; 3\n잘못 입력하셨습니다.\n이름 ['윤태'] 나이 [] 성별 []\n"
    }
   ],
   "source": [
    "print(\"=\"*50)\n",
    "print(\"=\"*5,\"고객 관리 시스템\",\"=\"*17)\n",
    "print(\"=\"*5,\"메뉴를 선택 하세요.\",\"=\"*14)\n",
    "start =\"Y\"\n",
    "name=[]\n",
    "age=[]\n",
    "gender= []\n",
    "namecount =1\n",
    "agecount =1\n",
    "gendercount =1\n",
    "while start == \"Y\":\n",
    "    print(\"=\"*5,\"이름 입력 : 1, 나이 입력:2, 성별 입력 ; 3\")\n",
    "    menu = input(\"1, 2, 3 메뉴 중에 하나를 입력하세요 : \")\n",
    "    if menu == '1':\n",
    "        name.append(input(\"이름 입력\"))\n",
    "    \n",
    "    elif menu == '2' :\n",
    "        age.append(input(\"나이 입력\"))\n",
    "\n",
    "    elif menu == '3' :\n",
    "        gender.append(input(\"성별 입력(M/G)\"))\n",
    "        \n",
    "    else :\n",
    "        print(\"잘못 입력하셨습니다.\")\n",
    "    start = input(\"계속 입력하시겠습니까? Y/N\").upper()\n",
    "print (\"이름\" ,name, \"나이\",age,\"성별\",gender)"
   ]
  },
  {
   "cell_type": "code",
   "execution_count": 21,
   "metadata": {},
   "outputs": [
    {
     "output_type": "stream",
     "name": "stdout",
     "text": "Help on built-in function print in module builtins:\n\nprint(...)\n    print(value, ..., sep=' ', end='\\n', file=sys.stdout, flush=False)\n    \n    Prints the values to a stream, or to sys.stdout by default.\n    Optional keyword arguments:\n    file:  a file-like object (stream); defaults to the current sys.stdout.\n    sep:   string inserted between values, default a space.\n    end:   string appended after the last value, default a newline.\n    flush: whether to forcibly flush the stream.\n\n"
    }
   ],
   "source": [
    "help(print)"
   ]
  },
  {
   "cell_type": "code",
   "execution_count": 25,
   "metadata": {},
   "outputs": [
    {
     "output_type": "stream",
     "name": "stdout",
     "text": "1\n"
    }
   ],
   "source": [
    "a=2\n",
    "def abc() :\n",
    "    a=1\n",
    "    return a\n",
    "a=abc()\n",
    "print (a)\n"
   ]
  },
  {
   "cell_type": "code",
   "execution_count": 56,
   "metadata": {},
   "outputs": [
    {
     "output_type": "stream",
     "name": "stdout",
     "text": "★★★★★★★\n★★★★★★★\n★★★★★★★\n★★★★★★★\n★★★★★★★\n★★★★★★★\n★★★★★★★\n\n"
    }
   ],
   "source": [
    "def print_star(c=5,r=1,m=\"*\") :\n",
    "    star =\"\"\n",
    "    for i in range(r) :\n",
    "        star = star+(m*c)+\"\\n\"\n",
    "    return star        \n",
    "\n",
    "a=print_star(7,7,\"★\")\n",
    "print(a)\n"
   ]
  },
  {
   "cell_type": "code",
   "execution_count": 64,
   "metadata": {},
   "outputs": [
    {
     "output_type": "stream",
     "name": "stdout",
     "text": "**********\n**********\n**********\n**********\n**********\n"
    }
   ],
   "source": [
    "def print_a(k,r=5,c=10) :\n",
    "    kk= '*'\n",
    "    star =[]\n",
    "    if k ==\"+\":\n",
    "        kk=\"+\"\n",
    "        \n",
    "    for i in range(r):\n",
    "        star.append(kk*c)\n",
    "    return star\n",
    "a = print_a(\"1\")\n",
    "for i in a :\n",
    "    print (i)"
   ]
  },
  {
   "cell_type": "code",
   "execution_count": 83,
   "metadata": {},
   "outputs": [
    {
     "output_type": "error",
     "ename": "KeyboardInterrupt",
     "evalue": "Interrupted by user",
     "traceback": [
      "\u001b[0;31m---------------------------------------------------------------------------\u001b[0m",
      "\u001b[0;31mKeyboardInterrupt\u001b[0m                         Traceback (most recent call last)",
      "\u001b[0;32m<ipython-input-83-558e38796150>\u001b[0m in \u001b[0;36m<module>\u001b[0;34m\u001b[0m\n\u001b[1;32m     10\u001b[0m     \u001b[0;32mif\u001b[0m \u001b[0mmenu\u001b[0m \u001b[0;34m==\u001b[0m \u001b[0;34m\"I\"\u001b[0m \u001b[0;34m:\u001b[0m\u001b[0;34m\u001b[0m\u001b[0;34m\u001b[0m\u001b[0m\n\u001b[1;32m     11\u001b[0m         \u001b[0mname\u001b[0m \u001b[0;34m=\u001b[0m \u001b[0minput\u001b[0m\u001b[0;34m(\u001b[0m\u001b[0;34m'이름을 입력하시오.'\u001b[0m\u001b[0;34m)\u001b[0m\u001b[0;34m\u001b[0m\u001b[0;34m\u001b[0m\u001b[0m\n\u001b[0;32m---> 12\u001b[0;31m         \u001b[0msex\u001b[0m \u001b[0;34m=\u001b[0m \u001b[0minput\u001b[0m\u001b[0;34m(\u001b[0m\u001b[0;34m'성별을 입력하시오.'\u001b[0m\u001b[0;34m)\u001b[0m\u001b[0;34m\u001b[0m\u001b[0;34m\u001b[0m\u001b[0m\n\u001b[0m\u001b[1;32m     13\u001b[0m         \u001b[0memail\u001b[0m \u001b[0;34m=\u001b[0m \u001b[0minput\u001b[0m\u001b[0;34m(\u001b[0m\u001b[0;34m'이메일을 입력하시오.'\u001b[0m\u001b[0;34m)\u001b[0m\u001b[0;34m\u001b[0m\u001b[0;34m\u001b[0m\u001b[0m\n\u001b[1;32m     14\u001b[0m         \u001b[0myear\u001b[0m \u001b[0;34m=\u001b[0m \u001b[0minput\u001b[0m\u001b[0;34m(\u001b[0m\u001b[0;34m'출생년도를 입력하시오.'\u001b[0m\u001b[0;34m)\u001b[0m\u001b[0;34m\u001b[0m\u001b[0;34m\u001b[0m\u001b[0m\n",
      "\u001b[0;32m/usr/local/lib/python3.7/site-packages/ipykernel/kernelbase.py\u001b[0m in \u001b[0;36mraw_input\u001b[0;34m(self, prompt)\u001b[0m\n\u001b[1;32m    861\u001b[0m             \u001b[0mself\u001b[0m\u001b[0;34m.\u001b[0m\u001b[0m_parent_ident\u001b[0m\u001b[0;34m,\u001b[0m\u001b[0;34m\u001b[0m\u001b[0;34m\u001b[0m\u001b[0m\n\u001b[1;32m    862\u001b[0m             \u001b[0mself\u001b[0m\u001b[0;34m.\u001b[0m\u001b[0m_parent_header\u001b[0m\u001b[0;34m,\u001b[0m\u001b[0;34m\u001b[0m\u001b[0;34m\u001b[0m\u001b[0m\n\u001b[0;32m--> 863\u001b[0;31m             \u001b[0mpassword\u001b[0m\u001b[0;34m=\u001b[0m\u001b[0;32mFalse\u001b[0m\u001b[0;34m,\u001b[0m\u001b[0;34m\u001b[0m\u001b[0;34m\u001b[0m\u001b[0m\n\u001b[0m\u001b[1;32m    864\u001b[0m         )\n\u001b[1;32m    865\u001b[0m \u001b[0;34m\u001b[0m\u001b[0m\n",
      "\u001b[0;32m/usr/local/lib/python3.7/site-packages/ipykernel/kernelbase.py\u001b[0m in \u001b[0;36m_input_request\u001b[0;34m(self, prompt, ident, parent, password)\u001b[0m\n\u001b[1;32m    891\u001b[0m             \u001b[0;32mexcept\u001b[0m \u001b[0mKeyboardInterrupt\u001b[0m\u001b[0;34m:\u001b[0m\u001b[0;34m\u001b[0m\u001b[0;34m\u001b[0m\u001b[0m\n\u001b[1;32m    892\u001b[0m                 \u001b[0;31m# re-raise KeyboardInterrupt, to truncate traceback\u001b[0m\u001b[0;34m\u001b[0m\u001b[0;34m\u001b[0m\u001b[0;34m\u001b[0m\u001b[0m\n\u001b[0;32m--> 893\u001b[0;31m                 \u001b[0;32mraise\u001b[0m \u001b[0mKeyboardInterrupt\u001b[0m\u001b[0;34m(\u001b[0m\u001b[0;34m\"Interrupted by user\"\u001b[0m\u001b[0;34m)\u001b[0m \u001b[0;32mfrom\u001b[0m \u001b[0;32mNone\u001b[0m\u001b[0;34m\u001b[0m\u001b[0;34m\u001b[0m\u001b[0m\n\u001b[0m\u001b[1;32m    894\u001b[0m             \u001b[0;32melse\u001b[0m\u001b[0;34m:\u001b[0m\u001b[0;34m\u001b[0m\u001b[0;34m\u001b[0m\u001b[0m\n\u001b[1;32m    895\u001b[0m                 \u001b[0;32mbreak\u001b[0m\u001b[0;34m\u001b[0m\u001b[0;34m\u001b[0m\u001b[0m\n",
      "\u001b[0;31mKeyboardInterrupt\u001b[0m: Interrupted by user"
     ]
    }
   ],
   "source": [
    "\n",
    "member = []\n",
    "menu= \"\"\n",
    "a = 0\n",
    "\n",
    "\n",
    "menu = input('I : 고객정보 입력, C : 고객정보 수 출력, Q : 프로그램 종료')\n",
    "\n",
    "\n",
    "while menu !=\"Q\" :\n",
    "    if menu == \"I\" :\n",
    "        name = input('이름을 입력하시오.')\n",
    "        sex = input('성별을 입력하시오.')\n",
    "        email = input('이메일을 입력하시오.')\n",
    "        year = input('출생년도를 입력하시오.')\n",
    "        list = [name, sex, email, year]\n",
    "        member.append(list)\n",
    "    if menu == \"C\" :\n",
    "        print(len(member))\n",
    "    "
   ]
  },
  {
   "cell_type": "code",
   "execution_count": null,
   "metadata": {},
   "outputs": [],
   "source": []
  }
 ],
 "metadata": {
  "language_info": {
   "codemirror_mode": {
    "name": "ipython",
    "version": 3
   },
   "file_extension": ".py",
   "mimetype": "text/x-python",
   "name": "python",
   "nbconvert_exporter": "python",
   "pygments_lexer": "ipython3",
   "version": "3.7.7-final"
  },
  "orig_nbformat": 2,
  "kernelspec": {
   "name": "python37764bit7a873b8a9cda43a883f42f99ba146ed4",
   "display_name": "Python 3.7.7 64-bit"
  }
 },
 "nbformat": 4,
 "nbformat_minor": 2
}